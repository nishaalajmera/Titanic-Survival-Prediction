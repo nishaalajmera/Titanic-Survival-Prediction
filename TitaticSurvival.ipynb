{
  "nbformat": 4,
  "nbformat_minor": 0,
  "metadata": {
    "colab": {
      "name": "TitaticSurvival",
      "provenance": [],
      "authorship_tag": "ABX9TyOF1Ko5s3J5v69s5gXLmKi+",
      "include_colab_link": true
    },
    "kernelspec": {
      "name": "python3",
      "display_name": "Python 3"
    }
  },
  "cells": [
    {
      "cell_type": "markdown",
      "metadata": {
        "id": "view-in-github",
        "colab_type": "text"
      },
      "source": [
        "<a href=\"https://colab.research.google.com/github/nishaalajmera/Titanic-Survival-Prediction/blob/main/TitaticSurvival.ipynb\" target=\"_parent\"><img src=\"https://colab.research.google.com/assets/colab-badge.svg\" alt=\"Open In Colab\"/></a>"
      ]
    },
    {
      "cell_type": "markdown",
      "metadata": {
        "id": "KtLBJFOikbQz"
      },
      "source": [
        "# **Titanic Survival Prediction**\n",
        "### Nishaal Ramesh Ajmera\n",
        "\n"
      ]
    },
    {
      "cell_type": "markdown",
      "metadata": {
        "id": "9ceOFvOr2bKC"
      },
      "source": [
        "# Introduction\n",
        "\n",
        "In 1912, the RMS Titanic sank after colliding with an iceberg. This resulted in an unfortunate death of 1502 out of 2224 passengers and crew due to lack of lifeboats for everyone onboard. \n",
        "\n",
        "It was suggested that some groups of people were more likely to survive than others. Therefore, this analysis aims to predict what groups were more likely to survive using Machine Learning models. \n",
        "\n"
      ]
    },
    {
      "cell_type": "code",
      "metadata": {
        "id": "D05jW-EpgYB_"
      },
      "source": [
        "# @title Importing relevant packages\n",
        "import numpy as np\n",
        "import pandas as pd\n",
        "import seaborn as sns\n",
        "%matplotlib inline\n",
        "from matplotlib import pyplot as plt\n",
        "from matplotlib import style\n",
        "from sklearn.linear_model import LogisticRegression\n",
        "from sklearn import metrics\n",
        "from sklearn.naive_bayes import GaussianNB\n",
        "from sklearn.metrics import accuracy_score\n",
        "from sklearn.ensemble import RandomForestClassifier\n",
        "from sklearn.tree import DecisionTreeClassifier\n",
        "from sklearn.svm import LinearSVC\n",
        "from sklearn.model_selection import GridSearchCV\n",
        "from sklearn.neighbors import KNeighborsClassifier\n",
        "from keras.models import Sequential\n",
        "from keras.layers import Dense\n",
        "from keras.layers import Dropout\n",
        "from keras.utils import np_utils\n"
      ],
      "execution_count": null,
      "outputs": []
    },
    {
      "cell_type": "markdown",
      "metadata": {
        "id": "TBohzvVwlV36"
      },
      "source": [
        "## Data Understanding "
      ]
    },
    {
      "cell_type": "code",
      "metadata": {
        "id": "GS7Mcumgh_Rd"
      },
      "source": [
        "# Loading the train and test set\n",
        "url = 'https://raw.githubusercontent.com/nishaalajmera/Titanic-Survival-Prediction/main/train.csv'\n",
        "trainset = pd.read_csv(url)\n",
        "url2= 'https://raw.githubusercontent.com/nishaalajmera/Titanic-Survival-Prediction/main/testdata_with_groundTruth.csv'\n",
        "testset = pd.read_csv(url2)\n"
      ],
      "execution_count": null,
      "outputs": []
    },
    {
      "cell_type": "code",
      "metadata": {
        "colab": {
          "base_uri": "https://localhost:8080/",
          "height": 486
        },
        "id": "CgMHxQWejin6",
        "outputId": "b94def91-6a53-4ede-f69e-805d7948da88"
      },
      "source": [
        "# Inspecting data\n",
        "trainset.head()"
      ],
      "execution_count": null,
      "outputs": [
        {
          "output_type": "execute_result",
          "data": {
            "text/html": [
              "<div>\n",
              "<style scoped>\n",
              "    .dataframe tbody tr th:only-of-type {\n",
              "        vertical-align: middle;\n",
              "    }\n",
              "\n",
              "    .dataframe tbody tr th {\n",
              "        vertical-align: top;\n",
              "    }\n",
              "\n",
              "    .dataframe thead th {\n",
              "        text-align: right;\n",
              "    }\n",
              "</style>\n",
              "<table border=\"1\" class=\"dataframe\">\n",
              "  <thead>\n",
              "    <tr style=\"text-align: right;\">\n",
              "      <th></th>\n",
              "      <th>PassengerId</th>\n",
              "      <th>Survived</th>\n",
              "      <th>Pclass</th>\n",
              "      <th>Name</th>\n",
              "      <th>Sex</th>\n",
              "      <th>Age</th>\n",
              "      <th>SibSp</th>\n",
              "      <th>Parch</th>\n",
              "      <th>Ticket</th>\n",
              "      <th>Fare</th>\n",
              "      <th>Cabin</th>\n",
              "      <th>Embarked</th>\n",
              "    </tr>\n",
              "  </thead>\n",
              "  <tbody>\n",
              "    <tr>\n",
              "      <th>0</th>\n",
              "      <td>1</td>\n",
              "      <td>0</td>\n",
              "      <td>3</td>\n",
              "      <td>Braund, Mr. Owen Harris</td>\n",
              "      <td>male</td>\n",
              "      <td>22.0</td>\n",
              "      <td>1</td>\n",
              "      <td>0</td>\n",
              "      <td>A/5 21171</td>\n",
              "      <td>7.2500</td>\n",
              "      <td>NaN</td>\n",
              "      <td>S</td>\n",
              "    </tr>\n",
              "    <tr>\n",
              "      <th>1</th>\n",
              "      <td>2</td>\n",
              "      <td>1</td>\n",
              "      <td>1</td>\n",
              "      <td>Cumings, Mrs. John Bradley (Florence Briggs Th...</td>\n",
              "      <td>female</td>\n",
              "      <td>38.0</td>\n",
              "      <td>1</td>\n",
              "      <td>0</td>\n",
              "      <td>PC 17599</td>\n",
              "      <td>71.2833</td>\n",
              "      <td>C85</td>\n",
              "      <td>C</td>\n",
              "    </tr>\n",
              "    <tr>\n",
              "      <th>2</th>\n",
              "      <td>3</td>\n",
              "      <td>1</td>\n",
              "      <td>3</td>\n",
              "      <td>Heikkinen, Miss. Laina</td>\n",
              "      <td>female</td>\n",
              "      <td>26.0</td>\n",
              "      <td>0</td>\n",
              "      <td>0</td>\n",
              "      <td>STON/O2. 3101282</td>\n",
              "      <td>7.9250</td>\n",
              "      <td>NaN</td>\n",
              "      <td>S</td>\n",
              "    </tr>\n",
              "    <tr>\n",
              "      <th>3</th>\n",
              "      <td>4</td>\n",
              "      <td>1</td>\n",
              "      <td>1</td>\n",
              "      <td>Futrelle, Mrs. Jacques Heath (Lily May Peel)</td>\n",
              "      <td>female</td>\n",
              "      <td>35.0</td>\n",
              "      <td>1</td>\n",
              "      <td>0</td>\n",
              "      <td>113803</td>\n",
              "      <td>53.1000</td>\n",
              "      <td>C123</td>\n",
              "      <td>S</td>\n",
              "    </tr>\n",
              "    <tr>\n",
              "      <th>4</th>\n",
              "      <td>5</td>\n",
              "      <td>0</td>\n",
              "      <td>3</td>\n",
              "      <td>Allen, Mr. William Henry</td>\n",
              "      <td>male</td>\n",
              "      <td>35.0</td>\n",
              "      <td>0</td>\n",
              "      <td>0</td>\n",
              "      <td>373450</td>\n",
              "      <td>8.0500</td>\n",
              "      <td>NaN</td>\n",
              "      <td>S</td>\n",
              "    </tr>\n",
              "  </tbody>\n",
              "</table>\n",
              "</div>"
            ],
            "text/plain": [
              "   PassengerId  Survived  Pclass  ...     Fare Cabin  Embarked\n",
              "0            1         0       3  ...   7.2500   NaN         S\n",
              "1            2         1       1  ...  71.2833   C85         C\n",
              "2            3         1       3  ...   7.9250   NaN         S\n",
              "3            4         1       1  ...  53.1000  C123         S\n",
              "4            5         0       3  ...   8.0500   NaN         S\n",
              "\n",
              "[5 rows x 12 columns]"
            ]
          },
          "metadata": {
            "tags": []
          },
          "execution_count": 3
        }
      ]
    },
    {
      "cell_type": "code",
      "metadata": {
        "colab": {
          "base_uri": "https://localhost:8080/"
        },
        "id": "7SrFF7Vwlud9",
        "outputId": "95aec832-2fc3-4bf3-bc2c-9f7d16a9cc9f"
      },
      "source": [
        "trainset.info()"
      ],
      "execution_count": null,
      "outputs": [
        {
          "output_type": "stream",
          "text": [
            "<class 'pandas.core.frame.DataFrame'>\n",
            "RangeIndex: 891 entries, 0 to 890\n",
            "Data columns (total 12 columns):\n",
            " #   Column       Non-Null Count  Dtype  \n",
            "---  ------       --------------  -----  \n",
            " 0   PassengerId  891 non-null    int64  \n",
            " 1   Survived     891 non-null    int64  \n",
            " 2   Pclass       891 non-null    int64  \n",
            " 3   Name         891 non-null    object \n",
            " 4   Sex          891 non-null    object \n",
            " 5   Age          714 non-null    float64\n",
            " 6   SibSp        891 non-null    int64  \n",
            " 7   Parch        891 non-null    int64  \n",
            " 8   Ticket       891 non-null    object \n",
            " 9   Fare         891 non-null    float64\n",
            " 10  Cabin        204 non-null    object \n",
            " 11  Embarked     889 non-null    object \n",
            "dtypes: float64(2), int64(5), object(5)\n",
            "memory usage: 83.7+ KB\n"
          ],
          "name": "stdout"
        }
      ]
    },
    {
      "cell_type": "code",
      "metadata": {
        "colab": {
          "base_uri": "https://localhost:8080/"
        },
        "cellView": "form",
        "id": "ZJuVf0v-mFTA",
        "outputId": "43a53ccf-3d56-4b09-b320-745553ee530e"
      },
      "source": [
        "#@title Rows and columns \n",
        "# Inspecting the total number of rows and columns \n",
        "print(\"Total number of rows for training set:\", trainset.shape[0])\n",
        "print(\"Total number of columns in training set:\", trainset.shape[1])\n",
        "print(\"Total number of rows for test set:\", testset.shape[0])\n",
        "print(\"Total number of columns for test set;\",testset.shape[1])"
      ],
      "execution_count": null,
      "outputs": [
        {
          "output_type": "stream",
          "text": [
            "Total number of rows for training set: 891\n",
            "Total number of columns in training set: 12\n",
            "Total number of rows for test set: 418\n",
            "Total number of columns for test set; 12\n"
          ],
          "name": "stdout"
        }
      ]
    },
    {
      "cell_type": "markdown",
      "metadata": {
        "id": "Xa83cIIvydp_"
      },
      "source": [
        "The datasets show 11 features that could be use to predict the survival of passengers"
      ]
    },
    {
      "cell_type": "markdown",
      "metadata": {
        "id": "jSlnFuTG6bH8"
      },
      "source": [
        "## Exploratory Data Analysis "
      ]
    },
    {
      "cell_type": "code",
      "metadata": {
        "colab": {
          "base_uri": "https://localhost:8080/",
          "height": 313
        },
        "id": "IQKu6v5Z2Ohw",
        "outputId": "168e5331-149a-4743-e46d-914251bee85e"
      },
      "source": [
        "trainset.describe()"
      ],
      "execution_count": null,
      "outputs": [
        {
          "output_type": "execute_result",
          "data": {
            "text/html": [
              "<div>\n",
              "<style scoped>\n",
              "    .dataframe tbody tr th:only-of-type {\n",
              "        vertical-align: middle;\n",
              "    }\n",
              "\n",
              "    .dataframe tbody tr th {\n",
              "        vertical-align: top;\n",
              "    }\n",
              "\n",
              "    .dataframe thead th {\n",
              "        text-align: right;\n",
              "    }\n",
              "</style>\n",
              "<table border=\"1\" class=\"dataframe\">\n",
              "  <thead>\n",
              "    <tr style=\"text-align: right;\">\n",
              "      <th></th>\n",
              "      <th>PassengerId</th>\n",
              "      <th>Survived</th>\n",
              "      <th>Pclass</th>\n",
              "      <th>Age</th>\n",
              "      <th>SibSp</th>\n",
              "      <th>Parch</th>\n",
              "      <th>Fare</th>\n",
              "    </tr>\n",
              "  </thead>\n",
              "  <tbody>\n",
              "    <tr>\n",
              "      <th>count</th>\n",
              "      <td>891.000000</td>\n",
              "      <td>891.000000</td>\n",
              "      <td>891.000000</td>\n",
              "      <td>714.000000</td>\n",
              "      <td>891.000000</td>\n",
              "      <td>891.000000</td>\n",
              "      <td>891.000000</td>\n",
              "    </tr>\n",
              "    <tr>\n",
              "      <th>mean</th>\n",
              "      <td>446.000000</td>\n",
              "      <td>0.383838</td>\n",
              "      <td>2.308642</td>\n",
              "      <td>29.699118</td>\n",
              "      <td>0.523008</td>\n",
              "      <td>0.381594</td>\n",
              "      <td>32.204208</td>\n",
              "    </tr>\n",
              "    <tr>\n",
              "      <th>std</th>\n",
              "      <td>257.353842</td>\n",
              "      <td>0.486592</td>\n",
              "      <td>0.836071</td>\n",
              "      <td>14.526497</td>\n",
              "      <td>1.102743</td>\n",
              "      <td>0.806057</td>\n",
              "      <td>49.693429</td>\n",
              "    </tr>\n",
              "    <tr>\n",
              "      <th>min</th>\n",
              "      <td>1.000000</td>\n",
              "      <td>0.000000</td>\n",
              "      <td>1.000000</td>\n",
              "      <td>0.420000</td>\n",
              "      <td>0.000000</td>\n",
              "      <td>0.000000</td>\n",
              "      <td>0.000000</td>\n",
              "    </tr>\n",
              "    <tr>\n",
              "      <th>25%</th>\n",
              "      <td>223.500000</td>\n",
              "      <td>0.000000</td>\n",
              "      <td>2.000000</td>\n",
              "      <td>20.125000</td>\n",
              "      <td>0.000000</td>\n",
              "      <td>0.000000</td>\n",
              "      <td>7.910400</td>\n",
              "    </tr>\n",
              "    <tr>\n",
              "      <th>50%</th>\n",
              "      <td>446.000000</td>\n",
              "      <td>0.000000</td>\n",
              "      <td>3.000000</td>\n",
              "      <td>28.000000</td>\n",
              "      <td>0.000000</td>\n",
              "      <td>0.000000</td>\n",
              "      <td>14.454200</td>\n",
              "    </tr>\n",
              "    <tr>\n",
              "      <th>75%</th>\n",
              "      <td>668.500000</td>\n",
              "      <td>1.000000</td>\n",
              "      <td>3.000000</td>\n",
              "      <td>38.000000</td>\n",
              "      <td>1.000000</td>\n",
              "      <td>0.000000</td>\n",
              "      <td>31.000000</td>\n",
              "    </tr>\n",
              "    <tr>\n",
              "      <th>max</th>\n",
              "      <td>891.000000</td>\n",
              "      <td>1.000000</td>\n",
              "      <td>3.000000</td>\n",
              "      <td>80.000000</td>\n",
              "      <td>8.000000</td>\n",
              "      <td>6.000000</td>\n",
              "      <td>512.329200</td>\n",
              "    </tr>\n",
              "  </tbody>\n",
              "</table>\n",
              "</div>"
            ],
            "text/plain": [
              "       PassengerId    Survived      Pclass  ...       SibSp       Parch        Fare\n",
              "count   891.000000  891.000000  891.000000  ...  891.000000  891.000000  891.000000\n",
              "mean    446.000000    0.383838    2.308642  ...    0.523008    0.381594   32.204208\n",
              "std     257.353842    0.486592    0.836071  ...    1.102743    0.806057   49.693429\n",
              "min       1.000000    0.000000    1.000000  ...    0.000000    0.000000    0.000000\n",
              "25%     223.500000    0.000000    2.000000  ...    0.000000    0.000000    7.910400\n",
              "50%     446.000000    0.000000    3.000000  ...    0.000000    0.000000   14.454200\n",
              "75%     668.500000    1.000000    3.000000  ...    1.000000    0.000000   31.000000\n",
              "max     891.000000    1.000000    3.000000  ...    8.000000    6.000000  512.329200\n",
              "\n",
              "[8 rows x 7 columns]"
            ]
          },
          "metadata": {
            "tags": []
          },
          "execution_count": 6
        }
      ]
    },
    {
      "cell_type": "code",
      "metadata": {
        "colab": {
          "base_uri": "https://localhost:8080/"
        },
        "id": "fkG_G6Zy6nOt",
        "outputId": "8ddc5c9d-3fb8-4ee7-c8d2-a03dba157714"
      },
      "source": [
        "print(\"Number of passengers survived\")\n",
        "len(trainset[trainset.Survived==1])"
      ],
      "execution_count": null,
      "outputs": [
        {
          "output_type": "stream",
          "text": [
            "Number of passengers survived\n"
          ],
          "name": "stdout"
        },
        {
          "output_type": "execute_result",
          "data": {
            "text/plain": [
              "342"
            ]
          },
          "metadata": {
            "tags": []
          },
          "execution_count": 8
        }
      ]
    },
    {
      "cell_type": "code",
      "metadata": {
        "id": "zV2_9VRcyvlV",
        "colab": {
          "base_uri": "https://localhost:8080/",
          "height": 264
        },
        "cellView": "form",
        "outputId": "bb528f5b-3a0e-48dd-9cc7-6db255aeaada"
      },
      "source": [
        "#@title Histograms showing survival by age and sex\n",
        "g = sns.FacetGrid(trainset, col='Survived',hue='Sex',palette='Set2')\n",
        "g.map(plt.hist, 'Age',bins=30)\n",
        "axes = g.axes.flatten()\n",
        "g.add_legend()\n",
        "axes[0].set_title(\"Not Survived\")\n",
        "axes[1].set_title(\"Survived\")\n",
        "\n"
      ],
      "execution_count": null,
      "outputs": [
        {
          "output_type": "execute_result",
          "data": {
            "text/plain": [
              "Text(0.5, 1.0, 'Survived')"
            ]
          },
          "metadata": {
            "tags": []
          },
          "execution_count": 9
        },
        {
          "output_type": "display_data",
          "data": {
            "image/png": "[encoded data removed]",
            "text/plain": [
              "<Figure size 502.5x216 with 2 Axes>"
            ]
          },
          "metadata": {
            "tags": [],
            "needs_background": "light"
          }
        }
      ]
    },
    {
      "cell_type": "code",
      "metadata": {
        "colab": {
          "base_uri": "https://localhost:8080/",
          "height": 316
        },
        "id": "eZ9H1J5SE87-",
        "cellView": "form",
        "outputId": "2628cd56-0a26-4aa7-cdae-34b698fcd7dd"
      },
      "source": [
        "#@title Boxplot of survival by Age and Sex\n",
        "sns.boxplot(x='Survived',y='Age', hue='Sex', data=trainset, palette='Set2')"
      ],
      "execution_count": null,
      "outputs": [
        {
          "output_type": "execute_result",
          "data": {
            "text/plain": [
              "<matplotlib.axes._subplots.AxesSubplot at 0x7f2406eaad30>"
            ]
          },
          "metadata": {
            "tags": []
          },
          "execution_count": 10
        },
        {
          "output_type": "display_data",
          "data": {
            "image/png": "[encoded data removed]",
            "text/plain": [
              "<Figure size 432x288 with 1 Axes>"
            ]
          },
          "metadata": {
            "tags": [],
            "needs_background": "light"
          }
        }
      ]
    },
    {
      "cell_type": "code",
      "metadata": {
        "colab": {
          "base_uri": "https://localhost:8080/",
          "height": 296
        },
        "id": "Rs6V4VY6bqCB",
        "cellView": "form",
        "outputId": "7da7eb57-7b94-4357-993e-4238ac7994d6"
      },
      "source": [
        "# @title Bar chart of Survival count by Sex\n",
        "sns.countplot(x='Survived', hue='Sex', data=trainset, palette='Set2')\n",
        "plt.xticks(rotation=90)\n",
        "plt.show()"
      ],
      "execution_count": null,
      "outputs": [
        {
          "output_type": "display_data",
          "data": {
            "image/png": "[encoded data removed]",
            "text/plain": [
              "<Figure size 432x288 with 1 Axes>"
            ]
          },
          "metadata": {
            "tags": [],
            "needs_background": "light"
          }
        }
      ]
    },
    {
      "cell_type": "markdown",
      "metadata": {
        "id": "WOhIBW1A7Vd9"
      },
      "source": [
        "It is observed that generally more females were likely to survive then males. At large, the number of people surviving were much less than those who did not. "
      ]
    },
    {
      "cell_type": "code",
      "metadata": {
        "colab": {
          "base_uri": "https://localhost:8080/",
          "height": 652
        },
        "id": "0UM0tYr1JmRw",
        "outputId": "45053d41-af65-48bb-fd4f-f1272dac6ba5"
      },
      "source": [
        "#@title Plots showing probability of survival by Pclass, Sex and Embarkation port\n",
        "g = sns.FacetGrid(trainset, row='Embarked', height=2.5, aspect=1.6)\n",
        "g.map(sns.pointplot, 'Pclass', 'Survived', 'Sex', palette='Set2')\n",
        "g.add_legend()\n",
        "\n"
      ],
      "execution_count": null,
      "outputs": [
        {
          "output_type": "stream",
          "text": [
            "/usr/local/lib/python3.6/dist-packages/seaborn/axisgrid.py:643: UserWarning: Using the pointplot function without specifying `order` is likely to produce an incorrect plot.\n",
            "  warnings.warn(warning)\n",
            "/usr/local/lib/python3.6/dist-packages/seaborn/axisgrid.py:648: UserWarning: Using the pointplot function without specifying `hue_order` is likely to produce an incorrect plot.\n",
            "  warnings.warn(warning)\n"
          ],
          "name": "stderr"
        },
        {
          "output_type": "execute_result",
          "data": {
            "text/plain": [
              "<seaborn.axisgrid.FacetGrid at 0x7f243b5de898>"
            ]
          },
          "metadata": {
            "tags": []
          },
          "execution_count": 176
        },
        {
          "output_type": "display_data",
          "data": {
            "image/png": "[encoded data removed]",
            "text/plain": [
              "<Figure size 358.5x540 with 3 Axes>"
            ]
          },
          "metadata": {
            "tags": [],
            "needs_background": "light"
          }
        }
      ]
    },
    {
      "cell_type": "code",
      "metadata": {
        "colab": {
          "base_uri": "https://localhost:8080/",
          "height": 560
        },
        "id": "C-2F1mX6OMB2",
        "cellView": "form",
        "outputId": "6f085046-838f-494d-85a6-3f9390236c33"
      },
      "source": [
        "#@title Plots showing survival count by Pclass and Embarkation port\n",
        "sns.countplot(x='Pclass', hue='Survived', data=trainset, palette='viridis')\n",
        "plt.xticks(rotation=90)\n",
        "plt.show()\n",
        "sns.countplot(x='Embarked', data=trainset, palette='viridis', hue='Survived')\n",
        "plt.xticks(rotation=45)\n",
        "plt.show()"
      ],
      "execution_count": null,
      "outputs": [
        {
          "output_type": "display_data",
          "data": {
            "image/png": "[encoded data removed]",
            "text/plain": [
              "<Figure size 432x288 with 1 Axes>"
            ]
          },
          "metadata": {
            "tags": [],
            "needs_background": "light"
          }
        },
        {
          "output_type": "display_data",
          "data": {
            "image/png": "[encoded data removed]",
            "text/plain": [
              "<Figure size 432x288 with 1 Axes>"
            ]
          },
          "metadata": {
            "tags": [],
            "needs_background": "light"
          }
        }
      ]
    },
    {
      "cell_type": "code",
      "metadata": {
        "colab": {
          "base_uri": "https://localhost:8080/",
          "height": 316
        },
        "id": "UsrrqjWESnd0",
        "cellView": "form",
        "outputId": "51e93446-1543-4c7c-dc02-1c3045173c2d"
      },
      "source": [
        "#@title Distribution count of Fare\n",
        "sns.histplot(data=trainset['Fare'])"
      ],
      "execution_count": null,
      "outputs": [
        {
          "output_type": "execute_result",
          "data": {
            "text/plain": [
              "<matplotlib.axes._subplots.AxesSubplot at 0x7f2455605a90>"
            ]
          },
          "metadata": {
            "tags": []
          },
          "execution_count": 21
        },
        {
          "output_type": "display_data",
          "data": {
            "image/png": "[encoded data removed]",
            "text/plain": [
              "<Figure size 432x288 with 1 Axes>"
            ]
          },
          "metadata": {
            "tags": [],
            "needs_background": "light"
          }
        }
      ]
    },
    {
      "cell_type": "markdown",
      "metadata": {
        "id": "-Jd24F2j56Ng"
      },
      "source": [
        "# Methods"
      ]
    },
    {
      "cell_type": "markdown",
      "metadata": {
        "id": "Lf8nOuwroQ8t"
      },
      "source": [
        "### Data Cleaning\n",
        "The missing values in the data is inspected\n"
      ]
    },
    {
      "cell_type": "code",
      "metadata": {
        "colab": {
          "base_uri": "https://localhost:8080/"
        },
        "id": "dWtIFwG0Et7X",
        "outputId": "13222f14-288a-48a2-aa28-ae821fdc86b9"
      },
      "source": [
        "trainset.isnull().sum()"
      ],
      "execution_count": null,
      "outputs": [
        {
          "output_type": "execute_result",
          "data": {
            "text/plain": [
              "PassengerId      0\n",
              "Survived         0\n",
              "Pclass           0\n",
              "Name             0\n",
              "Sex              0\n",
              "Age            177\n",
              "SibSp            0\n",
              "Parch            0\n",
              "Ticket           0\n",
              "Fare             0\n",
              "Cabin          687\n",
              "Embarked         2\n",
              "dtype: int64"
            ]
          },
          "metadata": {
            "tags": []
          },
          "execution_count": 88
        }
      ]
    },
    {
      "cell_type": "markdown",
      "metadata": {
        "id": "RbNGDXNgGVOM"
      },
      "source": [
        " It is suggested that `Cabin` will not contribute to the prediction of survival and it has 687 missing values so it has been dropped.  The other features that are dropped are also thought to not contribute to the survival chances of a passenger. "
      ]
    },
    {
      "cell_type": "code",
      "metadata": {
        "id": "GN971HOJpP2G"
      },
      "source": [
        "trainset = trainset.drop (['PassengerId','Ticket','Cabin'], axis=1)\n",
        "testset = testset.drop (['PassengerId','Ticket','Cabin'], axis=1)"
      ],
      "execution_count": null,
      "outputs": []
    },
    {
      "cell_type": "markdown",
      "metadata": {
        "id": "brBWPdaS0CGF"
      },
      "source": [
        "Feature engineering is performed on `Embarked` column"
      ]
    },
    {
      "cell_type": "code",
      "metadata": {
        "colab": {
          "base_uri": "https://localhost:8080/"
        },
        "id": "Hl7x9PEtH6pM",
        "outputId": "37311fdd-7f7e-4117-ff51-11392eb63a15"
      },
      "source": [
        "trainset.Embarked.value_counts()"
      ],
      "execution_count": null,
      "outputs": [
        {
          "output_type": "execute_result",
          "data": {
            "text/plain": [
              "S    644\n",
              "C    168\n",
              "Q     77\n",
              "Name: Embarked, dtype: int64"
            ]
          },
          "metadata": {
            "tags": []
          },
          "execution_count": 179
        }
      ]
    },
    {
      "cell_type": "code",
      "metadata": {
        "id": "ew_ZNFy4J-ki"
      },
      "source": [
        "top_letter = 'S' \n",
        "df = [trainset, testset]\n",
        "\n",
        "for dataset in df:\n",
        "    dataset['Embarked'] = dataset['Embarked'].fillna(top_letter)"
      ],
      "execution_count": null,
      "outputs": []
    },
    {
      "cell_type": "markdown",
      "metadata": {
        "id": "T1A8oOv6LePw"
      },
      "source": [
        "Creating new feature to extract `Title` from `Name` \n",
        "\n",
        "\n"
      ]
    },
    {
      "cell_type": "code",
      "metadata": {
        "id": "e9Hy8COVLdlJ"
      },
      "source": [
        "trainset['Title'] = trainset['Name'].str.extract('([A-Za-z]+)\\.', expand=True)\n",
        "testset['Title'] = testset['Name'].str.extract('([A-Za-z]+)\\.', expand=True)"
      ],
      "execution_count": null,
      "outputs": []
    },
    {
      "cell_type": "code",
      "metadata": {
        "colab": {
          "base_uri": "https://localhost:8080/"
        },
        "id": "m85lQf4oMvOE",
        "outputId": "b6b71f96-8bce-486c-a76e-b3de290ba616"
      },
      "source": [
        "trainset.Title.value_counts()"
      ],
      "execution_count": null,
      "outputs": [
        {
          "output_type": "execute_result",
          "data": {
            "text/plain": [
              "Mr          517\n",
              "Miss        182\n",
              "Mrs         125\n",
              "Master       40\n",
              "Dr            7\n",
              "Rev           6\n",
              "Col           2\n",
              "Major         2\n",
              "Mlle          2\n",
              "Don           1\n",
              "Jonkheer      1\n",
              "Ms            1\n",
              "Mme           1\n",
              "Lady          1\n",
              "Countess      1\n",
              "Sir           1\n",
              "Capt          1\n",
              "Name: Title, dtype: int64"
            ]
          },
          "metadata": {
            "tags": []
          },
          "execution_count": 182
        }
      ]
    },
    {
      "cell_type": "markdown",
      "metadata": {
        "id": "jTjIamJIm17Z"
      },
      "source": [
        "Translations of Mr and Mrs are changed accordingly. Rare titles that might denote class in society or civilian awards are grouped as `Rare`"
      ]
    },
    {
      "cell_type": "code",
      "metadata": {
        "id": "8pTNTo6ElXnT"
      },
      "source": [
        "# chaging rare titles \n",
        "mapping = { 'Major': 'Mr', 'Mlle':'Miss','Col': 'Rare', 'Sir': 'Rare','Countess': 'Rare',\n",
        "           'Mme': 'Mrs','Lady': 'Mrs', 'Capt': 'Rare', 'Don': 'Mr',\n",
        "           'Jonkheer': 'Rare', 'Ms': 'Miss', 'Dona': 'Mrs','Dr':'Rare','Rev':'Rare'}\n",
        "\n",
        "for dataset in df:\n",
        "    dataset.replace({'Title': mapping}, inplace=True)"
      ],
      "execution_count": null,
      "outputs": []
    },
    {
      "cell_type": "markdown",
      "metadata": {
        "id": "X7fxtGYPoGMQ"
      },
      "source": [
        "The `Age` column has 177 missing values. If these rows are eliminated that will be substantial loss for the dataset keeping in mind that the total rows are 891. Therefore, the rationale that `Title` might give an indication of a passengers `Age` can be used to fill the missing `Age` values. "
      ]
    },
    {
      "cell_type": "code",
      "metadata": {
        "id": "1gOMkTn6oFOW"
      },
      "source": [
        "# fill in missing Age using median of Title groups\n",
        "for dataset in df:\n",
        "    agebytitle = dict(dataset.groupby('Title')['Age'].median())\n",
        "    #median age column\n",
        "    dataset['Med_Age'] = dataset['Title'].apply(lambda x: agebytitle[x])\n",
        "    # replace all missing ages with the value in this column\n",
        "    dataset['Age'].fillna(dataset['Med_Age'], inplace=True, )\n",
        "    del dataset['Med_Age']"
      ],
      "execution_count": null,
      "outputs": []
    },
    {
      "cell_type": "markdown",
      "metadata": {
        "id": "SGxzPc-y4FQW"
      },
      "source": [
        "Binning method will be used to encode the `Age` into 6 bins.  This will an idea of the magnitude of the age grouping"
      ]
    },
    {
      "cell_type": "code",
      "metadata": {
        "id": "DSh18CXa4Bn_"
      },
      "source": [
        "trainset['Grouped_Age']=pd.cut(trainset['Age'],\n",
        "                              bins=[-np.inf,12,21,30,40,65,np.inf],\n",
        "                              labels=[0,1,2,3,4,5]\n",
        ")\n",
        "testset['Grouped_Age']=pd.cut(testset['Age'],\n",
        "                              bins=[-np.inf,12,21,30,40,65,np.inf],\n",
        "                              labels=[0,1,2,3,4,5]\n",
        ")"
      ],
      "execution_count": null,
      "outputs": []
    },
    {
      "cell_type": "markdown",
      "metadata": {
        "id": "TWKqlEZ-Ox05"
      },
      "source": [
        "Convert to integers"
      ]
    },
    {
      "cell_type": "code",
      "metadata": {
        "id": "RyRyvYErO1KL"
      },
      "source": [
        "df = [trainset, testset]\n",
        "\n",
        "for dataset in df:\n",
        "    dataset['Fare'] = dataset['Fare'].fillna(0)\n",
        "    dataset['Fare'] = dataset['Fare'].astype(int)\n",
        "    dataset['Grouped_Age'] = dataset['Grouped_Age'].astype(int)"
      ],
      "execution_count": null,
      "outputs": []
    },
    {
      "cell_type": "markdown",
      "metadata": {
        "id": "wcanHbRPzccS"
      },
      "source": [
        "One Hot encoding is used for the `Embarked` feature to give equal importance to each port "
      ]
    },
    {
      "cell_type": "code",
      "metadata": {
        "id": "a-1KAU6wmHt8"
      },
      "source": [
        "trainset= pd.get_dummies(trainset,columns=['Embarked'],prefix='Embarked')\n",
        "testset= pd.get_dummies(testset,columns=['Embarked'],prefix='Embarked')"
      ],
      "execution_count": null,
      "outputs": []
    },
    {
      "cell_type": "markdown",
      "metadata": {
        "id": "Tjf-sZJCpdDi"
      },
      "source": [
        "The `Sex` feature will be dummy encoded to give equal importance to each sex and to avoid multicollinearity\n",
        "\n",
        "\n"
      ]
    },
    {
      "cell_type": "code",
      "metadata": {
        "id": "3ja46TRmmt_y"
      },
      "source": [
        "trainset= pd.get_dummies(trainset,columns=['Sex'],drop_first=True,prefix='S')\n",
        "testset= pd.get_dummies(testset,columns=['Sex'],drop_first=True,prefix='S')"
      ],
      "execution_count": null,
      "outputs": []
    },
    {
      "cell_type": "code",
      "metadata": {
        "id": "OqNbeRzdOANo"
      },
      "source": [
        "trainset= pd.get_dummies(trainset,columns=['Title'],drop_first=True,prefix='T')\n",
        "testset= pd.get_dummies(testset,columns=['Title'],drop_first=True,prefix='T')"
      ],
      "execution_count": null,
      "outputs": []
    },
    {
      "cell_type": "markdown",
      "metadata": {
        "id": "rwUErFKdBQIB"
      },
      "source": [
        "The extra features that might not be useful for model training are dropped"
      ]
    },
    {
      "cell_type": "code",
      "metadata": {
        "id": "o6TocDsSBL05",
        "colab": {
          "base_uri": "https://localhost:8080/",
          "height": 221
        },
        "outputId": "5d10aa2b-fe4d-4dd8-cded-869644436e4a"
      },
      "source": [
        "trainset = trainset.drop (['Name','Age'], axis=1)\n",
        "testset = testset.drop (['Name','Age'], axis=1)\n",
        "trainset.head()"
      ],
      "execution_count": null,
      "outputs": [
        {
          "output_type": "execute_result",
          "data": {
            "text/html": [
              "<div>\n",
              "<style scoped>\n",
              "    .dataframe tbody tr th:only-of-type {\n",
              "        vertical-align: middle;\n",
              "    }\n",
              "\n",
              "    .dataframe tbody tr th {\n",
              "        vertical-align: top;\n",
              "    }\n",
              "\n",
              "    .dataframe thead th {\n",
              "        text-align: right;\n",
              "    }\n",
              "</style>\n",
              "<table border=\"1\" class=\"dataframe\">\n",
              "  <thead>\n",
              "    <tr style=\"text-align: right;\">\n",
              "      <th></th>\n",
              "      <th>Survived</th>\n",
              "      <th>Pclass</th>\n",
              "      <th>SibSp</th>\n",
              "      <th>Parch</th>\n",
              "      <th>Fare</th>\n",
              "      <th>Grouped_Age</th>\n",
              "      <th>Embarked_C</th>\n",
              "      <th>Embarked_Q</th>\n",
              "      <th>Embarked_S</th>\n",
              "      <th>S_male</th>\n",
              "      <th>T_Miss</th>\n",
              "      <th>T_Mr</th>\n",
              "      <th>T_Mrs</th>\n",
              "      <th>T_Rare</th>\n",
              "    </tr>\n",
              "  </thead>\n",
              "  <tbody>\n",
              "    <tr>\n",
              "      <th>0</th>\n",
              "      <td>0</td>\n",
              "      <td>3</td>\n",
              "      <td>1</td>\n",
              "      <td>0</td>\n",
              "      <td>7</td>\n",
              "      <td>2</td>\n",
              "      <td>0</td>\n",
              "      <td>0</td>\n",
              "      <td>1</td>\n",
              "      <td>1</td>\n",
              "      <td>0</td>\n",
              "      <td>1</td>\n",
              "      <td>0</td>\n",
              "      <td>0</td>\n",
              "    </tr>\n",
              "    <tr>\n",
              "      <th>1</th>\n",
              "      <td>1</td>\n",
              "      <td>1</td>\n",
              "      <td>1</td>\n",
              "      <td>0</td>\n",
              "      <td>71</td>\n",
              "      <td>3</td>\n",
              "      <td>1</td>\n",
              "      <td>0</td>\n",
              "      <td>0</td>\n",
              "      <td>0</td>\n",
              "      <td>0</td>\n",
              "      <td>0</td>\n",
              "      <td>1</td>\n",
              "      <td>0</td>\n",
              "    </tr>\n",
              "    <tr>\n",
              "      <th>2</th>\n",
              "      <td>1</td>\n",
              "      <td>3</td>\n",
              "      <td>0</td>\n",
              "      <td>0</td>\n",
              "      <td>7</td>\n",
              "      <td>2</td>\n",
              "      <td>0</td>\n",
              "      <td>0</td>\n",
              "      <td>1</td>\n",
              "      <td>0</td>\n",
              "      <td>1</td>\n",
              "      <td>0</td>\n",
              "      <td>0</td>\n",
              "      <td>0</td>\n",
              "    </tr>\n",
              "    <tr>\n",
              "      <th>3</th>\n",
              "      <td>1</td>\n",
              "      <td>1</td>\n",
              "      <td>1</td>\n",
              "      <td>0</td>\n",
              "      <td>53</td>\n",
              "      <td>3</td>\n",
              "      <td>0</td>\n",
              "      <td>0</td>\n",
              "      <td>1</td>\n",
              "      <td>0</td>\n",
              "      <td>0</td>\n",
              "      <td>0</td>\n",
              "      <td>1</td>\n",
              "      <td>0</td>\n",
              "    </tr>\n",
              "    <tr>\n",
              "      <th>4</th>\n",
              "      <td>0</td>\n",
              "      <td>3</td>\n",
              "      <td>0</td>\n",
              "      <td>0</td>\n",
              "      <td>8</td>\n",
              "      <td>3</td>\n",
              "      <td>0</td>\n",
              "      <td>0</td>\n",
              "      <td>1</td>\n",
              "      <td>1</td>\n",
              "      <td>0</td>\n",
              "      <td>1</td>\n",
              "      <td>0</td>\n",
              "      <td>0</td>\n",
              "    </tr>\n",
              "  </tbody>\n",
              "</table>\n",
              "</div>"
            ],
            "text/plain": [
              "   Survived  Pclass  SibSp  Parch  Fare  ...  S_male  T_Miss  T_Mr  T_Mrs  T_Rare\n",
              "0         0       3      1      0     7  ...       1       0     1      0       0\n",
              "1         1       1      1      0    71  ...       0       0     0      1       0\n",
              "2         1       3      0      0     7  ...       0       1     0      0       0\n",
              "3         1       1      1      0    53  ...       0       0     0      1       0\n",
              "4         0       3      0      0     8  ...       1       0     1      0       0\n",
              "\n",
              "[5 rows x 14 columns]"
            ]
          },
          "metadata": {
            "tags": []
          },
          "execution_count": 190
        }
      ]
    },
    {
      "cell_type": "markdown",
      "metadata": {
        "id": "qFqReNAB0ZSP"
      },
      "source": [
        "Splitting variables for model training "
      ]
    },
    {
      "cell_type": "code",
      "metadata": {
        "id": "hwoxKecExQVd"
      },
      "source": [
        "X_train = trainset.drop (['Survived'], axis=1)\n",
        "Y_train = trainset['Survived']"
      ],
      "execution_count": null,
      "outputs": []
    },
    {
      "cell_type": "code",
      "metadata": {
        "id": "qqX_IZfTx-Iy"
      },
      "source": [
        "X_test = testset.drop (['Survived'], axis=1)\n",
        "Y_test = testset['Survived']"
      ],
      "execution_count": null,
      "outputs": []
    },
    {
      "cell_type": "markdown",
      "metadata": {
        "id": "eP9Ddhf36JL2"
      },
      "source": [
        "# Classification Models "
      ]
    },
    {
      "cell_type": "markdown",
      "metadata": {
        "id": "Oc25wWt_-jBm"
      },
      "source": [
        "### 1. Logistic Regression with Cross Validation "
      ]
    },
    {
      "cell_type": "code",
      "metadata": {
        "id": "VuyZkJgQyIA_",
        "colab": {
          "base_uri": "https://localhost:8080/"
        },
        "outputId": "f8667954-970b-4b3d-c563-271d50ac5c13"
      },
      "source": [
        "from sklearn.model_selection import GridSearchCV\n",
        "print('cross validation')\n",
        "# try to find the optimal hyper-parameter by cross-validation\n",
        "parameters = [{'C': [1,10, 100, 1000]}]\n",
        "print(\"# Tuning hyper-parameter\")\n",
        "clf = GridSearchCV(LogisticRegression(max_iter=1000), parameters, cv=5)\n",
        "clf.fit(X_train, Y_train)\n",
        "\n",
        "\n",
        "print('best parameters:')\n",
        "print(clf.best_params_)\n",
        "print('-------------------------------------')\n",
        "means = clf.cv_results_['mean_test_score']\n",
        "stds = clf.cv_results_['std_test_score']\n",
        "for mean, std, params in zip(means, stds, clf.cv_results_['params']):\n",
        "    print(\"%0.3f (+/-%0.03f) for %r\"\n",
        "          % (mean, std * 2, params))"
      ],
      "execution_count": null,
      "outputs": [
        {
          "output_type": "stream",
          "text": [
            "cross validation\n",
            "# Tuning hyper-parameter\n",
            "best parameters:\n",
            "{'C': 1}\n",
            "-------------------------------------\n",
            "0.825 (+/-0.043) for {'C': 1}\n",
            "0.820 (+/-0.054) for {'C': 10}\n",
            "0.819 (+/-0.050) for {'C': 100}\n",
            "0.819 (+/-0.050) for {'C': 1000}\n"
          ],
          "name": "stdout"
        }
      ]
    },
    {
      "cell_type": "code",
      "metadata": {
        "id": "1yq8HAI4U25-"
      },
      "source": [
        "optimal_C=1\n",
        "clf = LogisticRegression(C=optimal_C,max_iter=1000,penalty='l2').fit(X_train,Y_train)"
      ],
      "execution_count": null,
      "outputs": []
    },
    {
      "cell_type": "code",
      "metadata": {
        "colab": {
          "base_uri": "https://localhost:8080/"
        },
        "id": "d_ydiZzAVMz6",
        "outputId": "808e8ae6-ae66-42c7-91fb-b311069defa6"
      },
      "source": [
        "accuracy_score(Y_test, clf.predict(X_test))"
      ],
      "execution_count": null,
      "outputs": [
        {
          "output_type": "execute_result",
          "data": {
            "text/plain": [
              "0.777511961722488"
            ]
          },
          "metadata": {
            "tags": []
          },
          "execution_count": 106
        }
      ]
    },
    {
      "cell_type": "code",
      "metadata": {
        "id": "MLfOaP6rV7mG"
      },
      "source": [
        "def plot_coefficients(classifier, feature_names, clf_id, top_features=10):\n",
        "    coef = classifier.coef_.ravel()\n",
        "    top_positive_coefficients = np.argsort(coef)[-top_features:]\n",
        "    top_negative_coefficients = np.argsort(coef)[:top_features]\n",
        "    top_coefficients = np.hstack([top_negative_coefficients, top_positive_coefficients])\n",
        " # create plot\n",
        "    plt.figure(figsize=(15, 5))\n",
        "    plt.title(clf_id)\n",
        "    colors = ['red' if c < 0 else 'blue' for c in coef[top_coefficients]]\n",
        "    plt.bar(np.arange(2 * top_features), coef[top_coefficients], color=colors)\n",
        "    feature_names = np.array(feature_names)\n",
        "    plt.xticks(np.arange(1, 1 + 2 * top_features), feature_names[top_coefficients], rotation=60, ha='right')\n",
        "    plt.show()\n",
        "    \n",
        "# for tree-based classifier's feature importance plotting\n",
        "def plot_keyFeat_trees(classifier, feature_names, clf_id, top_features=10):\n",
        "    importances = classifier.feature_importances_\n",
        "    indices = np.argsort(importances)[::-1]\n",
        "    indices_vis = indices[:top_features]\n",
        "    \n",
        "    plt.figure()\n",
        "    plt.figure(figsize=(15, 5))\n",
        "    plt.title(clf_id)\n",
        "    plt.bar(range(top_features), importances[indices_vis],\n",
        "       color=\"r\", align=\"center\")\n",
        "    plt.xticks(range(top_features), indices)\n",
        "    plt.xlim([-1, top_features])\n",
        "    feature_names = np.array(feature_names)\n",
        "    plt.xticks(np.arange(0, top_features), feature_names[indices_vis], rotation=60, ha='right')\n",
        "    plt.show()"
      ],
      "execution_count": null,
      "outputs": []
    },
    {
      "cell_type": "code",
      "metadata": {
        "colab": {
          "base_uri": "https://localhost:8080/",
          "height": 328
        },
        "id": "BFvxlIyCr_93",
        "outputId": "3df6448f-1a1c-4157-b4d1-2e0f0e92e510"
      },
      "source": [
        "X_names= list(X_train.columns.values) \n",
        "plot_coefficients(clf,X_names,'Logistic Regression (L2)')"
      ],
      "execution_count": null,
      "outputs": [
        {
          "output_type": "display_data",
          "data": {
            "image/png": "[encoded data removed]",
            "text/plain": [
              "<Figure size 1080x360 with 1 Axes>"
            ]
          },
          "metadata": {
            "tags": [],
            "needs_background": "light"
          }
        }
      ]
    },
    {
      "cell_type": "markdown",
      "metadata": {
        "id": "TM_aMxJD-vHB"
      },
      "source": [
        "### 2. Naive Bayes Classifier \n"
      ]
    },
    {
      "cell_type": "code",
      "metadata": {
        "id": "MEIz1LpJQl9I",
        "colab": {
          "base_uri": "https://localhost:8080/"
        },
        "outputId": "50149b4e-22c5-40b2-8e24-d42cfa5fd5f0"
      },
      "source": [
        "NB = GaussianNB().fit(X_train, Y_train)\n",
        "\n",
        "# Make predictions\n",
        "y_pred = NB.predict(X_test)\n",
        "\n",
        "# Evaluate accuracy\n",
        "print('Naive Bayesian (Gaussian) classifier accuracy:',accuracy_score(Y_test, y_pred))\n"
      ],
      "execution_count": null,
      "outputs": [
        {
          "output_type": "stream",
          "text": [
            "Naive Bayesian (Gaussian) classifier accuracy: 0.7535885167464115\n"
          ],
          "name": "stdout"
        }
      ]
    },
    {
      "cell_type": "code",
      "metadata": {
        "id": "CsxIel0kRz1m",
        "colab": {
          "base_uri": "https://localhost:8080/"
        },
        "outputId": "630f107d-11a2-4af9-c26f-1225ef987e40"
      },
      "source": [
        "from sklearn import tree\n",
        "DT = DecisionTreeClassifier(criterion='entropy').fit(X_train, Y_train)\n",
        "y_pred = DT.predict(X_test)\n",
        "\n",
        "# Evaluate accuracy\n",
        "print('Decision tree accuracy:',accuracy_score(Y_test, y_pred))\n"
      ],
      "execution_count": null,
      "outputs": [
        {
          "output_type": "stream",
          "text": [
            "Decision tree accuracy: 0.7559808612440191\n"
          ],
          "name": "stdout"
        }
      ]
    },
    {
      "cell_type": "code",
      "metadata": {
        "id": "XVHDT77UTiqR",
        "colab": {
          "base_uri": "https://localhost:8080/",
          "height": 362
        },
        "outputId": "62040073-40b5-4ce5-98ea-d14fb5d33e66"
      },
      "source": [
        "print('decision tree accuracy:',accuracy_score(Y_test, DT.predict(X_test)))\n",
        "plot_keyFeat_trees(DT, X_names, 'decision tree', top_features=10)"
      ],
      "execution_count": null,
      "outputs": [
        {
          "output_type": "stream",
          "text": [
            "decision tree accuracy: 0.7559808612440191\n"
          ],
          "name": "stdout"
        },
        {
          "output_type": "display_data",
          "data": {
            "text/plain": [
              "<Figure size 432x288 with 0 Axes>"
            ]
          },
          "metadata": {
            "tags": []
          }
        },
        {
          "output_type": "display_data",
          "data": {
            "image/png": "[encoded data removed]",
            "text/plain": [
              "<Figure size 1080x360 with 1 Axes>"
            ]
          },
          "metadata": {
            "tags": [],
            "needs_background": "light"
          }
        }
      ]
    },
    {
      "cell_type": "code",
      "metadata": {
        "id": "nibtsj3rgo25"
      },
      "source": [
        "# Cross validation to select hyper_parameters\n",
        "n_estimators=[10,100,1000]\n",
        "max_depth=[None,5,10,20]\n",
        "param_grid= dict(n_estimators=n_estimators,max_depth=max_depth)"
      ],
      "execution_count": null,
      "outputs": []
    },
    {
      "cell_type": "markdown",
      "metadata": {
        "id": "ELTkSeFWjUch"
      },
      "source": [
        "Cv specifies cross-validation fold (5-fold here)\n",
        "n_jobs=-1 allows the code to run in parallel on all cores available except 1 "
      ]
    },
    {
      "cell_type": "markdown",
      "metadata": {
        "id": "IvzJRWW0-2uU"
      },
      "source": [
        "### 3. Random Forest "
      ]
    },
    {
      "cell_type": "code",
      "metadata": {
        "colab": {
          "base_uri": "https://localhost:8080/"
        },
        "id": "o50dELvnhBxx",
        "outputId": "3ee81cd1-5a4b-422b-8eff-6f30c4258545"
      },
      "source": [
        "RF=RandomForestClassifier(criterion='entropy',random_state=42)\n",
        "\n",
        "grid=GridSearchCV(estimator=RF,\n",
        "                  param_grid=param_grid,\n",
        "                  cv=5,\n",
        "                  verbose=2,\n",
        "                  n_jobs=-1)\n",
        "grid_result=grid.fit(X_train,Y_train)"
      ],
      "execution_count": null,
      "outputs": [
        {
          "output_type": "stream",
          "text": [
            "Fitting 5 folds for each of 12 candidates, totalling 60 fits\n"
          ],
          "name": "stdout"
        },
        {
          "output_type": "stream",
          "text": [
            "[Parallel(n_jobs=-1)]: Using backend LokyBackend with 2 concurrent workers.\n",
            "[Parallel(n_jobs=-1)]: Done  37 tasks      | elapsed:   17.6s\n",
            "[Parallel(n_jobs=-1)]: Done  60 out of  60 | elapsed:   33.9s finished\n"
          ],
          "name": "stderr"
        }
      ]
    },
    {
      "cell_type": "code",
      "metadata": {
        "colab": {
          "base_uri": "https://localhost:8080/"
        },
        "id": "imSB3bzoj0AJ",
        "outputId": "fd26d3cf-7d4b-425f-9de5-0825ae4159a4"
      },
      "source": [
        "grid_result.best_params_"
      ],
      "execution_count": null,
      "outputs": [
        {
          "output_type": "execute_result",
          "data": {
            "text/plain": [
              "{'max_depth': 5, 'n_estimators': 100}"
            ]
          },
          "metadata": {
            "tags": []
          },
          "execution_count": 129
        }
      ]
    },
    {
      "cell_type": "code",
      "metadata": {
        "colab": {
          "base_uri": "https://localhost:8080/"
        },
        "id": "bIsCfADdj7HO",
        "outputId": "797919ed-701c-441a-834f-3422a57efb43"
      },
      "source": [
        "grid_result.best_score_"
      ],
      "execution_count": null,
      "outputs": [
        {
          "output_type": "execute_result",
          "data": {
            "text/plain": [
              "0.830500282468144"
            ]
          },
          "metadata": {
            "tags": []
          },
          "execution_count": 130
        }
      ]
    },
    {
      "cell_type": "code",
      "metadata": {
        "id": "BXz_UIUqVG2c",
        "colab": {
          "base_uri": "https://localhost:8080/"
        },
        "outputId": "973e7fb0-fa8d-4a80-d74d-dd745e50b369"
      },
      "source": [
        "# apply best hyperparameters to model\n",
        "RF = RandomForestClassifier(criterion='entropy',n_estimators=100, max_depth=5).fit(X_train, Y_train)\n",
        "y_pred = RF.predict(X_test)\n",
        "\n",
        "# Evaluate accuracy\n",
        "print('Random Forest accuracy:',accuracy_score(Y_test, y_pred))\n"
      ],
      "execution_count": null,
      "outputs": [
        {
          "output_type": "stream",
          "text": [
            "Random Forest accuracy: 0.7799043062200957\n"
          ],
          "name": "stdout"
        }
      ]
    },
    {
      "cell_type": "code",
      "metadata": {
        "id": "Pmxk2814Xdry",
        "colab": {
          "base_uri": "https://localhost:8080/",
          "height": 360
        },
        "outputId": "3e4eab10-e8e9-4913-c19d-f8ff0caa80c1"
      },
      "source": [
        "print('Random Forest accuracy:',accuracy_score(Y_test, RF.predict(X_test)))\n",
        "plot_keyFeat_trees(RF, X_names, 'Random Forest', top_features=10)"
      ],
      "execution_count": null,
      "outputs": [
        {
          "output_type": "stream",
          "text": [
            "Random Forest accuracy: 0.7799043062200957\n"
          ],
          "name": "stdout"
        },
        {
          "output_type": "display_data",
          "data": {
            "text/plain": [
              "<Figure size 432x288 with 0 Axes>"
            ]
          },
          "metadata": {
            "tags": []
          }
        },
        {
          "output_type": "display_data",
          "data": {
            "image/png": "[encoded data removed]",
            "text/plain": [
              "<Figure size 1080x360 with 1 Axes>"
            ]
          },
          "metadata": {
            "tags": [],
            "needs_background": "light"
          }
        }
      ]
    },
    {
      "cell_type": "markdown",
      "metadata": {
        "id": "T8nvK2MV_WKe"
      },
      "source": [
        "### 4. Support Vector Machine with RBF kernel "
      ]
    },
    {
      "cell_type": "code",
      "metadata": {
        "id": "l6D4GE0Sau-Q",
        "colab": {
          "base_uri": "https://localhost:8080/"
        },
        "outputId": "8c34aee3-10f5-4888-c096-1079fd4b3d1b"
      },
      "source": [
        "svc = SVC()\n",
        "svc_param_grid = {'kernel': ['rbf'], \n",
        "                  'gamma': [0.0001, 0.001, 0.01, 0.1, 1],\n",
        "                  'C': [1, 10, 50, 100, 200,1000]}               \n",
        "\n",
        "print(\"# Tuning hyper-parameters\")\n",
        "cv_svc = GridSearchCV(SVC(),svc_param_grid, cv=5, n_jobs= -1, verbose = 1)\n",
        "cv_svc.fit(X_train, Y_train)\n",
        "\n",
        "\n",
        "cv_svc.best_params_\n"
      ],
      "execution_count": null,
      "outputs": [
        {
          "output_type": "stream",
          "text": [
            "# Tuning hyper-parameters\n",
            "Fitting 5 folds for each of 30 candidates, totalling 150 fits\n"
          ],
          "name": "stdout"
        },
        {
          "output_type": "stream",
          "text": [
            "[Parallel(n_jobs=-1)]: Using backend LokyBackend with 2 concurrent workers.\n",
            "[Parallel(n_jobs=-1)]: Done 150 out of 150 | elapsed:    5.7s finished\n"
          ],
          "name": "stderr"
        },
        {
          "output_type": "execute_result",
          "data": {
            "text/plain": [
              "{'C': 1000, 'gamma': 0.001, 'kernel': 'rbf'}"
            ]
          },
          "metadata": {
            "tags": []
          },
          "execution_count": 167
        }
      ]
    },
    {
      "cell_type": "code",
      "metadata": {
        "colab": {
          "base_uri": "https://localhost:8080/"
        },
        "id": "hbjTlLIbBp-y",
        "outputId": "93893be7-b27c-4662-e307-87ee83eeea15"
      },
      "source": [
        "svc= SVC(kernel='rbf',C=1000,gamma=0.001).fit(X_train,Y_train)\n",
        "y_pred = svc.predict(X_test)\n",
        "\n",
        "# Evaluate accuracy\n",
        "print('Support vector machine accuracy:',accuracy_score(Y_test, y_pred))"
      ],
      "execution_count": null,
      "outputs": [
        {
          "output_type": "stream",
          "text": [
            "Support vector machine accuracy: 0.7607655502392344\n"
          ],
          "name": "stdout"
        }
      ]
    },
    {
      "cell_type": "markdown",
      "metadata": {
        "id": "7lfBRmMY6WDF"
      },
      "source": [
        "# Results\n",
        "\n",
        "| Model                       | Accuracy | \n",
        "|-----------------------------|----------|\n",
        "| Naïve Bayes Classifier      |\t0.754    |\n",
        "| Logistic Regression (L2)    | 0.778    |\n",
        "| Classification Decision Tree|\t0.756    |\n",
        "| Random Forest               | 0.780    |\n",
        "| Support Vector Machine      |\t0.761    |\n",
        "   \n",
        "\n",
        "The best machine learning model that can be used to predict the survival of passengers on the Titanic is Random Forest with the number of trees specified as 100 and maximum depth of 5 for each tree. The feature importance for the Random Forest model is visualised above to interpret the model better. \n",
        "   \n",
        "   In the Figure, it is shown that the top 4 important features is the Sex of the passenger where 1 is for male and 0 as female(S_male) , Title of the person if he is called Mr (T_Mr), the passenger class (Pclass)  and the ticket fare paid by passenger (Fare). "
      ]
    }
  ]
}